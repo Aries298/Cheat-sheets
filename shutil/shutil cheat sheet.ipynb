{
 "cells": [
  {
   "cell_type": "code",
   "execution_count": null,
   "id": "fb0ba7ec",
   "metadata": {},
   "outputs": [],
   "source": [
    "import shutil\n",
    "from pathlib import Path\n",
    "PATH = Path.home()\n",
    "print(PATH)"
   ]
  },
  {
   "cell_type": "code",
   "execution_count": null,
   "id": "b89f248b",
   "metadata": {},
   "outputs": [],
   "source": [
    "# Copying file\n",
    "shutil.copy(PATH/'file1', PATH/'file2')"
   ]
  },
  {
   "cell_type": "code",
   "execution_count": null,
   "id": "60bd97bc",
   "metadata": {},
   "outputs": [],
   "source": [
    "# Copying folder stucture\n",
    "shutil.copytree(PATH/'folder1', PATH/'folder2')"
   ]
  },
  {
   "cell_type": "code",
   "execution_count": null,
   "id": "00d976d3",
   "metadata": {},
   "outputs": [],
   "source": [
    "# Moving files and folders\n",
    "# OVERWRITES EXISTING FILES!\n",
    "shutil.move(PATH/'file1', PATH/'file2')"
   ]
  },
  {
   "cell_type": "code",
   "execution_count": null,
   "id": "ba929ccf",
   "metadata": {},
   "outputs": [],
   "source": [
    "# Deleting whole not empty folders\n",
    "# The other deleting functions are in the 'os' module\n",
    "# For safe deleting please install send2trash module\n",
    "shutil.rmtree(PATH/'folder1')"
   ]
  },
  {
   "cell_type": "code",
   "execution_count": null,
   "id": "e3fe608a",
   "metadata": {},
   "outputs": [],
   "source": []
  }
 ],
 "metadata": {
  "kernelspec": {
   "display_name": "Python 3 (ipykernel)",
   "language": "python",
   "name": "python3"
  },
  "language_info": {
   "codemirror_mode": {
    "name": "ipython",
    "version": 3
   },
   "file_extension": ".py",
   "mimetype": "text/x-python",
   "name": "python",
   "nbconvert_exporter": "python",
   "pygments_lexer": "ipython3",
   "version": "3.8.8"
  }
 },
 "nbformat": 4,
 "nbformat_minor": 5
}
