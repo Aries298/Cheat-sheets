{
 "cells": [
  {
   "cell_type": "code",
   "execution_count": 2,
   "id": "d966aab2",
   "metadata": {},
   "outputs": [],
   "source": [
    "import numpy as np"
   ]
  },
  {
   "cell_type": "code",
   "execution_count": 4,
   "id": "329fdae6",
   "metadata": {},
   "outputs": [],
   "source": [
    "# Loading the dataset as a numpy array\n",
    "iris = np.genfromtxt(\"iris.csv\", delimiter=\",\", skip_header=1)"
   ]
  },
  {
   "cell_type": "code",
   "execution_count": 10,
   "id": "05976aa2",
   "metadata": {},
   "outputs": [
    {
     "name": "stdout",
     "output_type": "stream",
     "text": [
      "[5.84333333 3.05733333 3.758      1.19933333        nan]\n"
     ]
    }
   ],
   "source": [
    "# STATISTICS\n",
    "# Calculate the mean of each column\n",
    "mean = np.mean(iris, axis=0)\n",
    "\n",
    "# Calculate the covariance matrix\n",
    "covariance = np.cov(iris, rowvar=False)"
   ]
  },
  {
   "cell_type": "code",
   "execution_count": 12,
   "id": "012b6962",
   "metadata": {},
   "outputs": [],
   "source": [
    "# ARRAY MANIPULATION\n",
    "\n",
    "# Reshape the array to be of shape (150, 4)\n",
    "iris = np.reshape(iris, (150, 4))\n",
    "\n",
    "# Slicing the array to select rows where the species is 'setosa'\n",
    "setosa = iris[iris[:, 4] == 'setosa']\n",
    "\n",
    "# Select all rows where the sepal length is greater than 5.0\n",
    "sepal_length_gt_5 = iris[iris[:, 0] > 5.0, :]\n",
    "\n",
    "# Indexing the array to select the first three rows\n",
    "first_three = iris[:3, :]\n",
    "\n",
    "# Concatenating two arrays along the first axis (rows)\n",
    "iris_virginica = iris[iris[:, 4] == 'virginica']\n",
    "iris_versicolor = iris[iris[:, 4] == 'versicolor']\n",
    "concatenated = np.concatenate((iris_versicolor, iris_virginica), axis=0)"
   ]
  },
  {
   "cell_type": "code",
   "execution_count": 13,
   "id": "22709024",
   "metadata": {},
   "outputs": [],
   "source": [
    "# AGGREGATION\n",
    "# Summing the values in each column\n",
    "column_sums = np.sum(iris, axis=0)\n",
    "\n",
    "# Averaging the values in each row\n",
    "row_averages = np.mean(iris, axis=1)\n",
    "\n",
    "# Counting the number of values greater than 5 in each column\n",
    "column_counts = np.sum(iris > 5, axis=0)"
   ]
  },
  {
   "cell_type": "code",
   "execution_count": 14,
   "id": "6c9b6701",
   "metadata": {},
   "outputs": [],
   "source": [
    "# BROADCASTING\n",
    "\n",
    "# Subtracting the mean from each value in the array\n",
    "iris_centered = iris - np.mean(iris, axis=0)\n",
    "\n",
    "# Dividing each value in the array by its standard deviation\n",
    "iris_normalized = iris / np.std(iris, axis=0)"
   ]
  },
  {
   "cell_type": "code",
   "execution_count": 15,
   "id": "10823209",
   "metadata": {},
   "outputs": [],
   "source": [
    "# MASKING\n",
    "\n",
    "# Selecting all rows where the sepal length is greater than 5\n",
    "long_sepals = iris[iris[:, 0] > 5]\n",
    "\n",
    "# Replacing all values less than 5 with 0\n",
    "iris[iris < 5] = 0"
   ]
  }
 ],
 "metadata": {
  "kernelspec": {
   "display_name": "Python 3 (ipykernel)",
   "language": "python",
   "name": "python3"
  },
  "language_info": {
   "codemirror_mode": {
    "name": "ipython",
    "version": 3
   },
   "file_extension": ".py",
   "mimetype": "text/x-python",
   "name": "python",
   "nbconvert_exporter": "python",
   "pygments_lexer": "ipython3",
   "version": "3.8.8"
  }
 },
 "nbformat": 4,
 "nbformat_minor": 5
}
