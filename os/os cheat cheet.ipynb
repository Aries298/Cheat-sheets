{
 "cells": [
  {
   "cell_type": "code",
   "execution_count": 2,
   "id": "dc14e3be",
   "metadata": {},
   "outputs": [],
   "source": [
    "import os\n",
    "from pathlib import Path\n",
    "PATH = Path.home()"
   ]
  },
  {
   "cell_type": "code",
   "execution_count": 3,
   "id": "0bde1cb9",
   "metadata": {},
   "outputs": [
    {
     "ename": "NameError",
     "evalue": "name 'shutil' is not defined",
     "output_type": "error",
     "traceback": [
      "\u001b[1;31m---------------------------------------------------------------------------\u001b[0m",
      "\u001b[1;31mNameError\u001b[0m                                 Traceback (most recent call last)",
      "Cell \u001b[1;32mIn[3], line 2\u001b[0m\n\u001b[0;32m      1\u001b[0m \u001b[38;5;66;03m# Deleting a file\u001b[39;00m\n\u001b[1;32m----> 2\u001b[0m \u001b[43mshutil\u001b[49m\u001b[38;5;241m.\u001b[39mrmtree(PATH\u001b[38;5;241m/\u001b[39m\u001b[38;5;124m'\u001b[39m\u001b[38;5;124mfile1\u001b[39m\u001b[38;5;124m'\u001b[39m)\n",
      "\u001b[1;31mNameError\u001b[0m: name 'shutil' is not defined"
     ]
    }
   ],
   "source": [
    "# Deleting a file\n",
    "os.unlink(PATH/'file1')"
   ]
  },
  {
   "cell_type": "code",
   "execution_count": 4,
   "id": "86811e96",
   "metadata": {},
   "outputs": [
    {
     "ename": "FileNotFoundError",
     "evalue": "[WinError 2] Nie można odnaleźć określonego pliku: 'C:\\\\Users\\\\Admin\\\\folder1'",
     "output_type": "error",
     "traceback": [
      "\u001b[1;31m---------------------------------------------------------------------------\u001b[0m",
      "\u001b[1;31mFileNotFoundError\u001b[0m                         Traceback (most recent call last)",
      "Cell \u001b[1;32mIn[4], line 3\u001b[0m\n\u001b[0;32m      1\u001b[0m \u001b[38;5;66;03m# Deleting an empty folder\u001b[39;00m\n\u001b[0;32m      2\u001b[0m \u001b[38;5;66;03m# For deleting non empty folder use shutil module\u001b[39;00m\n\u001b[1;32m----> 3\u001b[0m \u001b[43mos\u001b[49m\u001b[38;5;241;43m.\u001b[39;49m\u001b[43mrmdir\u001b[49m\u001b[43m(\u001b[49m\u001b[43mPATH\u001b[49m\u001b[38;5;241;43m/\u001b[39;49m\u001b[38;5;124;43m'\u001b[39;49m\u001b[38;5;124;43mfolder1\u001b[39;49m\u001b[38;5;124;43m'\u001b[39;49m\u001b[43m)\u001b[49m\n",
      "\u001b[1;31mFileNotFoundError\u001b[0m: [WinError 2] Nie można odnaleźć określonego pliku: 'C:\\\\Users\\\\Admin\\\\folder1'"
     ]
    }
   ],
   "source": [
    "# Deleting an empty folder\n",
    "# For deleting non empty folder use shutil module\n",
    "os.rmdir(PATH/'folder1')"
   ]
  },
  {
   "cell_type": "code",
   "execution_count": 6,
   "id": "d1226be6",
   "metadata": {},
   "outputs": [
    {
     "ename": "AttributeError",
     "evalue": "module 'zipfile' has no attribute 'Zipfile'",
     "output_type": "error",
     "traceback": [
      "\u001b[1;31m---------------------------------------------------------------------------\u001b[0m",
      "\u001b[1;31mAttributeError\u001b[0m                            Traceback (most recent call last)",
      "Cell \u001b[1;32mIn[6], line 3\u001b[0m\n\u001b[0;32m      1\u001b[0m \u001b[38;5;66;03m# ZIPFILES\u001b[39;00m\n\u001b[0;32m      2\u001b[0m \u001b[38;5;28;01mimport\u001b[39;00m \u001b[38;5;21;01mzipfile\u001b[39;00m\n\u001b[1;32m----> 3\u001b[0m file_zip \u001b[38;5;241m=\u001b[39m \u001b[43mzipfile\u001b[49m\u001b[38;5;241;43m.\u001b[39;49m\u001b[43mZipfile\u001b[49m(PATH\u001b[38;5;241m/\u001b[39m\u001b[38;5;124m'\u001b[39m\u001b[38;5;124mfile.zip\u001b[39m\u001b[38;5;124m'\u001b[39m)\n\u001b[0;32m      4\u001b[0m \u001b[38;5;66;03m# Data in zip\u001b[39;00m\n\u001b[0;32m      5\u001b[0m file_zip\u001b[38;5;241m.\u001b[39mnamelist()\n",
      "\u001b[1;31mAttributeError\u001b[0m: module 'zipfile' has no attribute 'Zipfile'"
     ]
    }
   ],
   "source": [
    "# ZIPFILES\n",
    "import zipfile\n",
    "file_zip = zipfile.Zipfile(PATH/'file.zip')\n",
    "# Data in zip\n",
    "file_zip.namelist()\n",
    "# Reading info\n",
    "file_info = exampleZip.getinfo('file.txt')\n",
    "# Size\n",
    "file_info.file_size\n",
    "# Compress size\n",
    "file_info.compress_size\n",
    "file_zip.close()"
   ]
  },
  {
   "cell_type": "code",
   "execution_count": 7,
   "id": "754888ba",
   "metadata": {},
   "outputs": [
    {
     "ename": "SyntaxError",
     "evalue": "invalid syntax (1521748675.py, line 3)",
     "output_type": "error",
     "traceback": [
      "\u001b[1;36m  Cell \u001b[1;32mIn[7], line 3\u001b[1;36m\u001b[0m\n\u001b[1;33m    file_zip.extractall()\u001b[0m\n\u001b[1;37m    ^\u001b[0m\n\u001b[1;31mSyntaxError\u001b[0m\u001b[1;31m:\u001b[0m invalid syntax\n"
     ]
    }
   ],
   "source": [
    "# Extracing\n",
    "file_zip = zipfile.ZipFile((PATH/'file.zip')\n",
    "file_zip.extractall()\n",
    "file_zip.close()"
   ]
  },
  {
   "cell_type": "code",
   "execution_count": 8,
   "id": "126cf317",
   "metadata": {},
   "outputs": [
    {
     "ename": "FileNotFoundError",
     "evalue": "[WinError 2] Nie można odnaleźć określonego pliku: 'file.txt'",
     "output_type": "error",
     "traceback": [
      "\u001b[1;31m---------------------------------------------------------------------------\u001b[0m",
      "\u001b[1;31mFileNotFoundError\u001b[0m                         Traceback (most recent call last)",
      "Cell \u001b[1;32mIn[8], line 3\u001b[0m\n\u001b[0;32m      1\u001b[0m \u001b[38;5;66;03m# Creating zip files\u001b[39;00m\n\u001b[0;32m      2\u001b[0m file_zip \u001b[38;5;241m=\u001b[39m zipfile\u001b[38;5;241m.\u001b[39mZipFile(\u001b[38;5;124m'\u001b[39m\u001b[38;5;124mnew_zip_file.zip\u001b[39m\u001b[38;5;124m'\u001b[39m, \u001b[38;5;124m'\u001b[39m\u001b[38;5;124mw\u001b[39m\u001b[38;5;124m'\u001b[39m)\n\u001b[1;32m----> 3\u001b[0m \u001b[43mfile_zip\u001b[49m\u001b[38;5;241;43m.\u001b[39;49m\u001b[43mwrite\u001b[49m\u001b[43m(\u001b[49m\u001b[38;5;124;43m'\u001b[39;49m\u001b[38;5;124;43mfile.txt\u001b[39;49m\u001b[38;5;124;43m'\u001b[39;49m\u001b[43m,\u001b[49m\u001b[43m \u001b[49m\u001b[43mcompress_type\u001b[49m\u001b[38;5;241;43m=\u001b[39;49m\u001b[43mzipfile\u001b[49m\u001b[38;5;241;43m.\u001b[39;49m\u001b[43mZIP_DEFLATED\u001b[49m\u001b[43m)\u001b[49m\n\u001b[0;32m      4\u001b[0m file_zip\u001b[38;5;241m.\u001b[39mclose()\n",
      "File \u001b[1;32m~\\anaconda3\\lib\\zipfile.py:1741\u001b[0m, in \u001b[0;36mZipFile.write\u001b[1;34m(self, filename, arcname, compress_type, compresslevel)\u001b[0m\n\u001b[0;32m   1736\u001b[0m \u001b[38;5;28;01mif\u001b[39;00m \u001b[38;5;28mself\u001b[39m\u001b[38;5;241m.\u001b[39m_writing:\n\u001b[0;32m   1737\u001b[0m     \u001b[38;5;28;01mraise\u001b[39;00m \u001b[38;5;167;01mValueError\u001b[39;00m(\n\u001b[0;32m   1738\u001b[0m         \u001b[38;5;124m\"\u001b[39m\u001b[38;5;124mCan\u001b[39m\u001b[38;5;124m'\u001b[39m\u001b[38;5;124mt write to ZIP archive while an open writing handle exists\u001b[39m\u001b[38;5;124m\"\u001b[39m\n\u001b[0;32m   1739\u001b[0m     )\n\u001b[1;32m-> 1741\u001b[0m zinfo \u001b[38;5;241m=\u001b[39m \u001b[43mZipInfo\u001b[49m\u001b[38;5;241;43m.\u001b[39;49m\u001b[43mfrom_file\u001b[49m\u001b[43m(\u001b[49m\u001b[43mfilename\u001b[49m\u001b[43m,\u001b[49m\u001b[43m \u001b[49m\u001b[43marcname\u001b[49m\u001b[43m,\u001b[49m\n\u001b[0;32m   1742\u001b[0m \u001b[43m                          \u001b[49m\u001b[43mstrict_timestamps\u001b[49m\u001b[38;5;241;43m=\u001b[39;49m\u001b[38;5;28;43mself\u001b[39;49m\u001b[38;5;241;43m.\u001b[39;49m\u001b[43m_strict_timestamps\u001b[49m\u001b[43m)\u001b[49m\n\u001b[0;32m   1744\u001b[0m \u001b[38;5;28;01mif\u001b[39;00m zinfo\u001b[38;5;241m.\u001b[39mis_dir():\n\u001b[0;32m   1745\u001b[0m     zinfo\u001b[38;5;241m.\u001b[39mcompress_size \u001b[38;5;241m=\u001b[39m \u001b[38;5;241m0\u001b[39m\n",
      "File \u001b[1;32m~\\anaconda3\\lib\\zipfile.py:523\u001b[0m, in \u001b[0;36mZipInfo.from_file\u001b[1;34m(cls, filename, arcname, strict_timestamps)\u001b[0m\n\u001b[0;32m    521\u001b[0m \u001b[38;5;28;01mif\u001b[39;00m \u001b[38;5;28misinstance\u001b[39m(filename, os\u001b[38;5;241m.\u001b[39mPathLike):\n\u001b[0;32m    522\u001b[0m     filename \u001b[38;5;241m=\u001b[39m os\u001b[38;5;241m.\u001b[39mfspath(filename)\n\u001b[1;32m--> 523\u001b[0m st \u001b[38;5;241m=\u001b[39m \u001b[43mos\u001b[49m\u001b[38;5;241;43m.\u001b[39;49m\u001b[43mstat\u001b[49m\u001b[43m(\u001b[49m\u001b[43mfilename\u001b[49m\u001b[43m)\u001b[49m\n\u001b[0;32m    524\u001b[0m isdir \u001b[38;5;241m=\u001b[39m stat\u001b[38;5;241m.\u001b[39mS_ISDIR(st\u001b[38;5;241m.\u001b[39mst_mode)\n\u001b[0;32m    525\u001b[0m mtime \u001b[38;5;241m=\u001b[39m time\u001b[38;5;241m.\u001b[39mlocaltime(st\u001b[38;5;241m.\u001b[39mst_mtime)\n",
      "\u001b[1;31mFileNotFoundError\u001b[0m: [WinError 2] Nie można odnaleźć określonego pliku: 'file.txt'"
     ]
    }
   ],
   "source": [
    "# Creating zip files\n",
    "file_zip = zipfile.ZipFile('new_zip_file.zip', 'w')\n",
    "file_zip.write('file.txt', compress_type=zipfile.ZIP_DEFLATED)\n",
    "file_zip.close()"
   ]
  },
  {
   "cell_type": "code",
   "execution_count": 10,
   "id": "0b0d3922",
   "metadata": {},
   "outputs": [
    {
     "name": "stdout",
     "output_type": "stream",
     "text": [
      "['.anaconda', '.android', '.astropy', '.bash_history', '.cache', '.conda', '.condarc', '.config', '.continuum', '.docker', '.dotnet', '.ebookreader', '.eclipse', '.gitconfig', '.gnupg', '.ipython', '.jisho', '.jupyter', '.keras', '.librarymanager', '.m2', '.matplotlib', '.ms-ad', '.nbi', '.netrc', '.nuget', '.p2', '.pksigner', '.spyder-py3', '.ssh', '.swt', '.viminfo', '.VirtualBox', '.wdm', '3D Objects', 'anaconda3', 'app.spec', 'AppData', 'build', 'Contacts', 'Cookies', 'Dane aplikacji', 'Desktop', 'dist', 'Documents', 'Downloads', 'eclipse', 'eclipse-workspace', 'Favorites', 'IntelGraphicsProfiles', 'java_error_in_pycharm64_12732.log', 'json_files', 'Links', 'Menu Start', 'Moje dokumenty', 'Music', 'My Documents', 'My project', 'NetHood', 'NTUSER.DAT', 'ntuser.dat.LOG1', 'ntuser.dat.LOG2', 'NTUSER.DAT{53b39e88-18c4-11ea-a811-000d3aa4692b}.TM.blf', 'NTUSER.DAT{53b39e88-18c4-11ea-a811-000d3aa4692b}.TMContainer00000000000000000001.regtrans-ms', 'NTUSER.DAT{53b39e88-18c4-11ea-a811-000d3aa4692b}.TMContainer00000000000000000002.regtrans-ms', 'ntuser.ini', 'OneDrive', 'OneDrive - WSISiZ', 'Pictures', 'PrintHood', 'PycharmProjects', 'Recent', 'Saved Games', 'Searches', 'SendTo', 'source', 'Szablony', 'Tracing', 'Ustawienia lokalne', 'Videos', 'VirtualBox VMs', 'Zotero']\n"
     ]
    }
   ],
   "source": [
    "# Listing all files in directory\n",
    "print(os.listdir(PATH))"
   ]
  },
  {
   "cell_type": "code",
   "execution_count": null,
   "id": "c218a2bd",
   "metadata": {},
   "outputs": [],
   "source": []
  }
 ],
 "metadata": {
  "kernelspec": {
   "display_name": "Python 3 (ipykernel)",
   "language": "python",
   "name": "python3"
  },
  "language_info": {
   "codemirror_mode": {
    "name": "ipython",
    "version": 3
   },
   "file_extension": ".py",
   "mimetype": "text/x-python",
   "name": "python",
   "nbconvert_exporter": "python",
   "pygments_lexer": "ipython3",
   "version": "3.8.8"
  }
 },
 "nbformat": 4,
 "nbformat_minor": 5
}
