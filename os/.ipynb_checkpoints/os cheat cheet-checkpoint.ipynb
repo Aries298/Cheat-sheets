{
 "cells": [
  {
   "cell_type": "code",
   "execution_count": null,
   "id": "dc14e3be",
   "metadata": {},
   "outputs": [],
   "source": [
    "import os\n",
    "from pathlib import Path\n",
    "PATH = Path.home()"
   ]
  },
  {
   "cell_type": "code",
   "execution_count": null,
   "id": "0bde1cb9",
   "metadata": {},
   "outputs": [],
   "source": [
    "# Deleting a file\n",
    "os.unlink(PATH/'file1')"
   ]
  },
  {
   "cell_type": "code",
   "execution_count": null,
   "id": "86811e96",
   "metadata": {},
   "outputs": [],
   "source": [
    "# Deleting an empty folder\n",
    "# For deleting non empty folder use shutil module\n",
    "os.rmdir(PATH/'folder1')"
   ]
  },
  {
   "cell_type": "code",
   "execution_count": null,
   "id": "d1226be6",
   "metadata": {},
   "outputs": [],
   "source": [
    "# ZIPFILES\n",
    "import zipfile\n",
    "file_zip = zipfile.Zipfile(PATH/'file.zip')\n",
    "# Data in zip\n",
    "file_zip.namelist()\n",
    "# Reading info\n",
    "file_info = exampleZip.getinfo('file.txt')\n",
    "# Size\n",
    "file_info.file_size\n",
    "# Compress size\n",
    "file_info.compress_size\n",
    "file_zip.close()"
   ]
  },
  {
   "cell_type": "code",
   "execution_count": null,
   "id": "754888ba",
   "metadata": {},
   "outputs": [],
   "source": [
    "# Extracing\n",
    "file_zip = zipfile.ZipFile((PATH/'file.zip')\n",
    "file_zip.extractall()\n",
    "file_zip.close()"
   ]
  },
  {
   "cell_type": "code",
   "execution_count": null,
   "id": "126cf317",
   "metadata": {},
   "outputs": [],
   "source": [
    "# Creating zip files\n",
    "file_zip = zipfile.ZipFile('new_zip_file.zip', 'w')\n",
    "file_zip.write('file.txt', compress_type=zipfile.ZIP_DEFLATED)\n",
    "file_zip.close()"
   ]
  },
  {
   "cell_type": "code",
   "execution_count": null,
   "id": "0b0d3922",
   "metadata": {},
   "outputs": [],
   "source": [
    "# Listing all files in directory\n",
    "print(os.listdir(PATH))"
   ]
  },
  {
   "cell_type": "code",
   "execution_count": null,
   "id": "c218a2bd",
   "metadata": {},
   "outputs": [],
   "source": []
  }
 ],
 "metadata": {
  "kernelspec": {
   "display_name": "Python 3 (ipykernel)",
   "language": "python",
   "name": "python3"
  },
  "language_info": {
   "codemirror_mode": {
    "name": "ipython",
    "version": 3
   },
   "file_extension": ".py",
   "mimetype": "text/x-python",
   "name": "python",
   "nbconvert_exporter": "python",
   "pygments_lexer": "ipython3",
   "version": "3.8.8"
  }
 },
 "nbformat": 4,
 "nbformat_minor": 5
}
