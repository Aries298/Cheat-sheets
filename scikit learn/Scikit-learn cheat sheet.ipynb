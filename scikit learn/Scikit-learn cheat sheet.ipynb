{
 "cells": [
  {
   "cell_type": "code",
   "execution_count": 41,
   "id": "ccb6f8f4",
   "metadata": {},
   "outputs": [],
   "source": [
    "import numpy as np\n",
    "\n",
    "import pandas as pd\n",
    "\n",
    "import matplotlib\n",
    "import matplotlib.pyplot as plt\n",
    "\n",
    "import seaborn as sns\n",
    "\n",
    "# CLASSIFIER MODELS\n",
    "# To add\n",
    "# Support Vector Machine (SVM)\n",
    "# Multi-layer Perceptron (MLP)\n",
    "# Quadratic Discriminant Analysis (QDA)\n",
    "# Linear Discriminant Analysis (LDA)\n",
    "# Perceptron\n",
    "# Ridge Classifier\n",
    "# K-Means\n",
    "# DBSCAN\n",
    "# Nearest Centroid\n",
    "# BernoulliNB\n",
    "# ComplementNB\n",
    "# MultinomialNB\n",
    "# CategoricalNB\n",
    "# LabelPropagation\n",
    "# LabelSpreading\n",
    "# PassiveAggressiveClassifier\n",
    "# MLPClassifier\n",
    "# MLPRegressor\n",
    "# QuadraticDiscriminantAnalysis\n",
    "# RandomTreesEmbedding\n",
    "# RidgeClassifierCV\n",
    "# SGDClassifier\n",
    "# SVC\n",
    "# NuSVC\n",
    "# LinearSVC\n",
    "# OneVsRestClassifier\n",
    "# OneVsOneClassifier\n",
    "# BaggingClassifier\n",
    "# RandomForestClassifier\n",
    "# ExtraTreesClassifier\n",
    "# AdaBoostClassifier\n",
    "# GradientBoostingClassifier\n",
    "# HistGradientBoostingClassifier\n",
    "# VotingClassifier\n",
    "from sklearn.model_selection import train_test_split # Splitting the train set\n",
    "from sklearn.tree import export_graphviz # Drawing tree\n",
    "\n",
    "from sklearn.linear_model import LogisticRegression # Logistic regression\n",
    "from sklearn.neighbors import KNeighborsClassifier # K-neighbours method\n",
    "from sklearn.ensemble import RandomForestClassifier # Random forest method\n",
    "from sklearn.ensemble import GradientBoostingClassifier # Gradient boosting method\n",
    "from sklearn.tree import DecisionTreeClassifier # Decision Tree method\n",
    "from sklearn.naive_bayes import GaussianNB # Naive Bayes\n",
    "\n",
    "from sklearn.svm import SVC\n",
    "from sklearn.neural_network import MLPClassifier\n",
    "# REGRESSION MODELS\n",
    "# To add\n",
    "# Linear Regression\n",
    "# Ridge Regression\n",
    "# Lasso Regression\n",
    "# Elastic Net\n",
    "# Bayesian Ridge\n",
    "# Perceptron\n",
    "# Passive Aggressive Regressor\n",
    "# SVR (Support Vector Regression)\n",
    "# KNeighborsRegressor\n",
    "# DecisionTreeRegressor\n",
    "# RandomForestRegressor\n",
    "# MLPRegressor\n",
    "# GradientBoostingRegressor\n",
    "# HistGradientBoostingRegressor\n",
    "# AdaBoostRegressor\n",
    "# BaggingRegressor\n",
    "# ExtraTreesRegressor\n",
    "# HuberRegressor\n",
    "# RANSACRegressor\n",
    "# TheilSenRegressor\n",
    "# LinearSVR\n",
    "# NuSVR\n",
    "# MultiOutputRegressor\n",
    "# RegressorChain\n",
    "# TransformedTargetRegressor\n",
    "\n",
    "# Encoding\n",
    "from sklearn.preprocessing import LabelEncoder\n",
    "\n",
    "# Data scaling\n",
    "from sklearn.preprocessing import MinMaxScaler \n",
    "from sklearn.preprocessing import RobustScaler\n",
    "\n",
    "\n",
    "from sklearn.model_selection import cross_val_score # Cross validation\n",
    "from sklearn import model_selection # Model selection\n",
    "from sklearn.metrics import mean_absolute_error # Mean absolute error\n",
    "from sklearn.metrics import accuracy_score # Accuracy\n",
    "from sklearn.metrics import f1_score # F1 score\n",
    "from sklearn.metrics import confusion_matrix # Confusion matrix\n",
    "from sklearn.metrics import classification_report # Classification report\n",
    "from sklearn.metrics import roc_auc_score, roc_curve, auc # ROC curve\n",
    "from sklearn.model_selection import RandomizedSearchCV, GridSearchCV # Hyperparameters search\n",
    "\n",
    "\n",
    "RANDOM_STATE = 42 #"
   ]
  },
  {
   "cell_type": "code",
   "execution_count": 8,
   "id": "05f8bf29",
   "metadata": {},
   "outputs": [],
   "source": [
    "df = pd.read_csv('iris.csv')"
   ]
  },
  {
   "cell_type": "code",
   "execution_count": 11,
   "id": "256cbf7e",
   "metadata": {},
   "outputs": [
    {
     "data": {
      "text/html": [
       "<div>\n",
       "<style scoped>\n",
       "    .dataframe tbody tr th:only-of-type {\n",
       "        vertical-align: middle;\n",
       "    }\n",
       "\n",
       "    .dataframe tbody tr th {\n",
       "        vertical-align: top;\n",
       "    }\n",
       "\n",
       "    .dataframe thead th {\n",
       "        text-align: right;\n",
       "    }\n",
       "</style>\n",
       "<table border=\"1\" class=\"dataframe\">\n",
       "  <thead>\n",
       "    <tr style=\"text-align: right;\">\n",
       "      <th></th>\n",
       "      <th>sepal.length</th>\n",
       "      <th>sepal.width</th>\n",
       "      <th>petal.length</th>\n",
       "      <th>petal.width</th>\n",
       "      <th>variety</th>\n",
       "    </tr>\n",
       "  </thead>\n",
       "  <tbody>\n",
       "    <tr>\n",
       "      <th>0</th>\n",
       "      <td>5.1</td>\n",
       "      <td>3.5</td>\n",
       "      <td>1.4</td>\n",
       "      <td>0.2</td>\n",
       "      <td>0</td>\n",
       "    </tr>\n",
       "    <tr>\n",
       "      <th>1</th>\n",
       "      <td>4.9</td>\n",
       "      <td>3.0</td>\n",
       "      <td>1.4</td>\n",
       "      <td>0.2</td>\n",
       "      <td>0</td>\n",
       "    </tr>\n",
       "    <tr>\n",
       "      <th>2</th>\n",
       "      <td>4.7</td>\n",
       "      <td>3.2</td>\n",
       "      <td>1.3</td>\n",
       "      <td>0.2</td>\n",
       "      <td>0</td>\n",
       "    </tr>\n",
       "    <tr>\n",
       "      <th>3</th>\n",
       "      <td>4.6</td>\n",
       "      <td>3.1</td>\n",
       "      <td>1.5</td>\n",
       "      <td>0.2</td>\n",
       "      <td>0</td>\n",
       "    </tr>\n",
       "    <tr>\n",
       "      <th>4</th>\n",
       "      <td>5.0</td>\n",
       "      <td>3.6</td>\n",
       "      <td>1.4</td>\n",
       "      <td>0.2</td>\n",
       "      <td>0</td>\n",
       "    </tr>\n",
       "    <tr>\n",
       "      <th>...</th>\n",
       "      <td>...</td>\n",
       "      <td>...</td>\n",
       "      <td>...</td>\n",
       "      <td>...</td>\n",
       "      <td>...</td>\n",
       "    </tr>\n",
       "    <tr>\n",
       "      <th>145</th>\n",
       "      <td>6.7</td>\n",
       "      <td>3.0</td>\n",
       "      <td>5.2</td>\n",
       "      <td>2.3</td>\n",
       "      <td>2</td>\n",
       "    </tr>\n",
       "    <tr>\n",
       "      <th>146</th>\n",
       "      <td>6.3</td>\n",
       "      <td>2.5</td>\n",
       "      <td>5.0</td>\n",
       "      <td>1.9</td>\n",
       "      <td>2</td>\n",
       "    </tr>\n",
       "    <tr>\n",
       "      <th>147</th>\n",
       "      <td>6.5</td>\n",
       "      <td>3.0</td>\n",
       "      <td>5.2</td>\n",
       "      <td>2.0</td>\n",
       "      <td>2</td>\n",
       "    </tr>\n",
       "    <tr>\n",
       "      <th>148</th>\n",
       "      <td>6.2</td>\n",
       "      <td>3.4</td>\n",
       "      <td>5.4</td>\n",
       "      <td>2.3</td>\n",
       "      <td>2</td>\n",
       "    </tr>\n",
       "    <tr>\n",
       "      <th>149</th>\n",
       "      <td>5.9</td>\n",
       "      <td>3.0</td>\n",
       "      <td>5.1</td>\n",
       "      <td>1.8</td>\n",
       "      <td>2</td>\n",
       "    </tr>\n",
       "  </tbody>\n",
       "</table>\n",
       "<p>150 rows × 5 columns</p>\n",
       "</div>"
      ],
      "text/plain": [
       "     sepal.length  sepal.width  petal.length  petal.width  variety\n",
       "0             5.1          3.5           1.4          0.2        0\n",
       "1             4.9          3.0           1.4          0.2        0\n",
       "2             4.7          3.2           1.3          0.2        0\n",
       "3             4.6          3.1           1.5          0.2        0\n",
       "4             5.0          3.6           1.4          0.2        0\n",
       "..            ...          ...           ...          ...      ...\n",
       "145           6.7          3.0           5.2          2.3        2\n",
       "146           6.3          2.5           5.0          1.9        2\n",
       "147           6.5          3.0           5.2          2.0        2\n",
       "148           6.2          3.4           5.4          2.3        2\n",
       "149           5.9          3.0           5.1          1.8        2\n",
       "\n",
       "[150 rows x 5 columns]"
      ]
     },
     "execution_count": 11,
     "metadata": {},
     "output_type": "execute_result"
    }
   ],
   "source": [
    "df"
   ]
  },
  {
   "cell_type": "code",
   "execution_count": 4,
   "id": "8fa9be63",
   "metadata": {},
   "outputs": [],
   "source": [
    "# SCALING"
   ]
  },
  {
   "cell_type": "code",
   "execution_count": null,
   "id": "73496a9b",
   "metadata": {},
   "outputs": [],
   "source": []
  },
  {
   "cell_type": "code",
   "execution_count": null,
   "id": "030d9dd5",
   "metadata": {},
   "outputs": [],
   "source": [
    "# OVERSAMPLING"
   ]
  },
  {
   "cell_type": "code",
   "execution_count": 16,
   "id": "f304680e",
   "metadata": {},
   "outputs": [],
   "source": [
    "# SMOTE"
   ]
  },
  {
   "cell_type": "code",
   "execution_count": 10,
   "id": "e80b0e2b",
   "metadata": {},
   "outputs": [],
   "source": [
    "# ENCODING\n",
    "\n",
    "le = LabelEncoder()\n",
    "df['variety'] = le.fit_transform(df['variety'])"
   ]
  },
  {
   "cell_type": "code",
   "execution_count": 5,
   "id": "e93fdc27",
   "metadata": {},
   "outputs": [],
   "source": [
    "# DATA SPLITTING"
   ]
  },
  {
   "cell_type": "code",
   "execution_count": 12,
   "id": "6eacdd71",
   "metadata": {},
   "outputs": [],
   "source": [
    "X = df.drop(['variety'], axis=1)\n",
    "y = df['variety']\n",
    "x_train, x_test, y_train, y_test = train_test_split(X, y, test_size = 0.3, random_state=RANDOM_STATE)"
   ]
  },
  {
   "cell_type": "code",
   "execution_count": 37,
   "id": "9850ff80",
   "metadata": {},
   "outputs": [],
   "source": [
    "# MODEL BUILDING"
   ]
  },
  {
   "cell_type": "code",
   "execution_count": 38,
   "id": "58f9a80c",
   "metadata": {},
   "outputs": [
    {
     "name": "stdout",
     "output_type": "stream",
     "text": [
      "Accuracy: 100.00%\n",
      "F1 Score: 100.00%\n"
     ]
    }
   ],
   "source": [
    "# LOGISTIC REGRESSION\n",
    "\n",
    "lr = LogisticRegression(random_state=RANDOM_STATE)\n",
    "lr.fit(x_train, y_train)\n",
    "preds = lr.predict(x_test)\n",
    "\n",
    "acc = accuracy_score(y_test, preds) * 100\n",
    "f1 = f1_score(y_test, preds, average='micro') * 100\n",
    "\n",
    "print(f'Accuracy: {acc:.2f}%')\n",
    "print(f'F1 Score: {f1:.2f}%')"
   ]
  },
  {
   "cell_type": "code",
   "execution_count": 28,
   "id": "93272064",
   "metadata": {},
   "outputs": [
    {
     "name": "stdout",
     "output_type": "stream",
     "text": [
      "Accuracy: 100.00%\n",
      "F1 Score: 100.00%\n"
     ]
    }
   ],
   "source": [
    "# DECISION TREE\n",
    "\n",
    "dt = DecisionTreeClassifier(random_state=RANDOM_STATE)\n",
    "dt.fit(x_train, y_train)\n",
    "preds = dt.predict(x_test)\n",
    "\n",
    "acc = accuracy_score(y_test, preds) * 100\n",
    "f1 = f1_score(y_test, preds, average='micro') * 100\n",
    "\n",
    "print(f'Accuracy: {acc:.2f}%')\n",
    "print(f'F1 Score: {f1:.2f}%')"
   ]
  },
  {
   "cell_type": "code",
   "execution_count": 29,
   "id": "7c21fb94",
   "metadata": {},
   "outputs": [
    {
     "name": "stdout",
     "output_type": "stream",
     "text": [
      "Accuracy: 100.00%\n",
      "F1 Score: 100.00%\n"
     ]
    }
   ],
   "source": [
    "# RANDOM FOREST\n",
    "\n",
    "rf = RandomForestClassifier(random_state=RANDOM_STATE)\n",
    "rf.fit(x_train, y_train)\n",
    "preds = rf.predict(x_test)\n",
    "\n",
    "acc = accuracy_score(y_test, preds) * 100\n",
    "f1 = f1_score(y_test, preds, average='micro') * 100\n",
    "\n",
    "print(f'Accuracy: {acc:.2f}%')\n",
    "print(f'F1 Score: {f1:.2f}%')"
   ]
  },
  {
   "cell_type": "code",
   "execution_count": 31,
   "id": "b92658dc",
   "metadata": {},
   "outputs": [
    {
     "name": "stdout",
     "output_type": "stream",
     "text": [
      "Accuracy: 100.00%\n",
      "F1 Score: 100.00%\n"
     ]
    }
   ],
   "source": [
    "# K-NEAREST NEIGHBORS\n",
    "\n",
    "knn = KNeighborsClassifier()\n",
    "knn.fit(x_train, y_train)\n",
    "preds = knn.predict(x_test)\n",
    "\n",
    "acc = accuracy_score(y_test, preds) * 100\n",
    "f1 = f1_score(y_test, preds, average='micro') * 100\n",
    "\n",
    "print(f'Accuracy: {acc:.2f}%')\n",
    "print(f'F1 Score: {f1:.2f}%')"
   ]
  },
  {
   "cell_type": "code",
   "execution_count": 34,
   "id": "6c16dc29",
   "metadata": {},
   "outputs": [
    {
     "name": "stdout",
     "output_type": "stream",
     "text": [
      "Accuracy: 100.00%\n",
      "F1 Score: 100.00%\n"
     ]
    }
   ],
   "source": [
    "# GRADIENT BOOSTING\n",
    "\n",
    "gb = GradientBoostingClassifier(random_state=RANDOM_STATE)\n",
    "gb.fit(x_train, y_train)\n",
    "preds = gb.predict(x_test)\n",
    "\n",
    "acc = accuracy_score(y_test, preds) * 100\n",
    "f1 = f1_score(y_test, preds, average='micro') * 100\n",
    "\n",
    "print(f'Accuracy: {acc:.2f}%')\n",
    "print(f'F1 Score: {f1:.2f}%')"
   ]
  },
  {
   "cell_type": "code",
   "execution_count": 36,
   "id": "c213cafa",
   "metadata": {},
   "outputs": [
    {
     "name": "stdout",
     "output_type": "stream",
     "text": [
      "Accuracy: 97.78%\n",
      "F1 Score: 97.78%\n"
     ]
    }
   ],
   "source": [
    "# NAIVE BAYES\n",
    "\n",
    "gnb = GaussianNB()\n",
    "gnb.fit(x_train, y_train)\n",
    "preds = gnb.predict(x_test)\n",
    "\n",
    "acc = accuracy_score(y_test, preds) * 100\n",
    "f1 = f1_score(y_test, preds, average='micro') * 100\n",
    "\n",
    "print(f'Accuracy: {acc:.2f}%')\n",
    "print(f'F1 Score: {f1:.2f}%')"
   ]
  },
  {
   "cell_type": "code",
   "execution_count": 40,
   "id": "14dc58df",
   "metadata": {},
   "outputs": [
    {
     "name": "stdout",
     "output_type": "stream",
     "text": [
      "Accuracy: 100.00%\n",
      "F1 Score: 100.00%\n"
     ]
    }
   ],
   "source": [
    "# SUPPORT VECTOR CLASSIFICATION\n",
    "\n",
    "svc = SVC()\n",
    "svc.fit(x_train, y_train)\n",
    "preds = svc.predict(x_test)\n",
    "\n",
    "acc = accuracy_score(y_test, preds) * 100\n",
    "f1 = f1_score(y_test, preds, average='micro') * 100\n",
    "\n",
    "print(f'Accuracy: {acc:.2f}%')\n",
    "print(f'F1 Score: {f1:.2f}%')"
   ]
  },
  {
   "cell_type": "code",
   "execution_count": 44,
   "id": "ddcaef2c",
   "metadata": {},
   "outputs": [
    {
     "name": "stdout",
     "output_type": "stream",
     "text": [
      "Accuracy: 100.00%\n",
      "F1 Score: 100.00%\n"
     ]
    }
   ],
   "source": [
    "# MULTI-LAYER PERCEPTRON\n",
    "\n",
    "mlp = MLPClassifier(solver='lbfgs', alpha=1e-5, hidden_layer_sizes=(5, 2), random_state=RANDOM_STATE)\n",
    "mlp.fit(X, y)\n",
    "preds = mlp.predict(x_test)\n",
    "\n",
    "acc = accuracy_score(y_test, preds) * 100\n",
    "f1 = f1_score(y_test, preds, average='micro') * 100\n",
    "\n",
    "print(f'Accuracy: {acc:.2f}%')\n",
    "print(f'F1 Score: {f1:.2f}%')"
   ]
  },
  {
   "cell_type": "code",
   "execution_count": null,
   "id": "c9dd2509",
   "metadata": {},
   "outputs": [],
   "source": []
  }
 ],
 "metadata": {
  "kernelspec": {
   "display_name": "Python 3 (ipykernel)",
   "language": "python",
   "name": "python3"
  },
  "language_info": {
   "codemirror_mode": {
    "name": "ipython",
    "version": 3
   },
   "file_extension": ".py",
   "mimetype": "text/x-python",
   "name": "python",
   "nbconvert_exporter": "python",
   "pygments_lexer": "ipython3",
   "version": "3.8.8"
  }
 },
 "nbformat": 4,
 "nbformat_minor": 5
}
